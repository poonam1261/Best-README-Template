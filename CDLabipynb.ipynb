{
  "nbformat": 4,
  "nbformat_minor": 0,
  "metadata": {
    "colab": {
      "provenance": [],
      "authorship_tag": "ABX9TyP9iW0N/2WWhejzY/p0PoNw",
      "include_colab_link": true
    },
    "kernelspec": {
      "name": "python3",
      "display_name": "Python 3"
    },
    "language_info": {
      "name": "python"
    }
  },
  "cells": [
    {
      "cell_type": "markdown",
      "metadata": {
        "id": "view-in-github",
        "colab_type": "text"
      },
      "source": [
        "<a href=\"https://colab.research.google.com/github/poonam1261/Best-README-Template/blob/master/CDLabipynb.ipynb\" target=\"_parent\"><img src=\"https://colab.research.google.com/assets/colab-badge.svg\" alt=\"Open In Colab\"/></a>"
      ]
    },
    {
      "cell_type": "code",
      "source": [
        "#@title Shell Execution (you can rewrite the commands as per your need, eg. if you want to include a file as an input)\n",
        "%%shell\n",
        "yacc -d program.y\n",
        "lex program.l\n",
        "gcc y.tab.c lex.yy.c -ll\n",
        "./a.out"
      ],
      "metadata": {
        "colab": {
          "base_uri": "https://localhost:8080/"
        },
        "outputId": "ad2ab7c5-9dfe-4072-af5f-11504febc493",
        "id": "VPR_SnBtQCc4"
      },
      "execution_count": null,
      "outputs": [
        {
          "output_type": "stream",
          "name": "stdout",
          "text": [
            "program.l:16: bad character class\n",
            "\u001b[01m\u001b[Kcc1:\u001b[m\u001b[K \u001b[01;31m\u001b[Kfatal error: \u001b[m\u001b[Klex.yy.c: No such file or directory\n",
            "compilation terminated.\n",
            "Enter a string: "
          ]
        }
      ]
    },
    {
      "cell_type": "code",
      "execution_count": 4,
      "metadata": {
        "colab": {
          "base_uri": "https://localhost:8080/"
        },
        "id": "o7vy7o7fkMAd",
        "outputId": "fdc8aec8-1498-4c37-ea16-5ff0da30121b"
      },
      "outputs": [
        {
          "output_type": "stream",
          "name": "stdout",
          "text": [
            "Reading package lists... Done\n",
            "Building dependency tree... Done\n",
            "Reading state information... Done\n",
            "The following additional packages will be installed:\n",
            "  libfl-dev libfl2\n",
            "Suggested packages:\n",
            "  bison-doc flex-doc\n",
            "The following NEW packages will be installed:\n",
            "  bison flex libfl-dev libfl2\n",
            "0 upgraded, 4 newly installed, 0 to remove and 30 not upgraded.\n",
            "Need to get 1,072 kB of archives.\n",
            "After this operation, 3,667 kB of additional disk space will be used.\n",
            "Get:1 http://archive.ubuntu.com/ubuntu jammy/main amd64 flex amd64 2.6.4-8build2 [307 kB]\n",
            "Get:2 http://archive.ubuntu.com/ubuntu jammy/main amd64 bison amd64 2:3.8.2+dfsg-1build1 [748 kB]\n",
            "Get:3 http://archive.ubuntu.com/ubuntu jammy/main amd64 libfl2 amd64 2.6.4-8build2 [10.7 kB]\n",
            "Get:4 http://archive.ubuntu.com/ubuntu jammy/main amd64 libfl-dev amd64 2.6.4-8build2 [6,236 B]\n",
            "Fetched 1,072 kB in 0s (7,171 kB/s)\n",
            "debconf: unable to initialize frontend: Dialog\n",
            "debconf: (No usable dialog-like program is installed, so the dialog based frontend cannot be used. at /usr/share/perl5/Debconf/FrontEnd/Dialog.pm line 78, <> line 4.)\n",
            "debconf: falling back to frontend: Readline\n",
            "debconf: unable to initialize frontend: Readline\n",
            "debconf: (This frontend requires a controlling tty.)\n",
            "debconf: falling back to frontend: Teletype\n",
            "dpkg-preconfigure: unable to re-open stdin: \n",
            "Selecting previously unselected package flex.\n",
            "(Reading database ... 126315 files and directories currently installed.)\n",
            "Preparing to unpack .../flex_2.6.4-8build2_amd64.deb ...\n",
            "Unpacking flex (2.6.4-8build2) ...\n",
            "Selecting previously unselected package bison.\n",
            "Preparing to unpack .../bison_2%3a3.8.2+dfsg-1build1_amd64.deb ...\n",
            "Unpacking bison (2:3.8.2+dfsg-1build1) ...\n",
            "Selecting previously unselected package libfl2:amd64.\n",
            "Preparing to unpack .../libfl2_2.6.4-8build2_amd64.deb ...\n",
            "Unpacking libfl2:amd64 (2.6.4-8build2) ...\n",
            "Selecting previously unselected package libfl-dev:amd64.\n",
            "Preparing to unpack .../libfl-dev_2.6.4-8build2_amd64.deb ...\n",
            "Unpacking libfl-dev:amd64 (2.6.4-8build2) ...\n",
            "Setting up flex (2.6.4-8build2) ...\n",
            "Setting up libfl2:amd64 (2.6.4-8build2) ...\n",
            "Setting up bison (2:3.8.2+dfsg-1build1) ...\n",
            "update-alternatives: using /usr/bin/bison.yacc to provide /usr/bin/yacc (yacc) in auto mode\n",
            "Setting up libfl-dev:amd64 (2.6.4-8build2) ...\n",
            "Processing triggers for man-db (2.10.2-1) ...\n",
            "Processing triggers for libc-bin (2.35-0ubuntu3.8) ...\n",
            "/sbin/ldconfig.real: /usr/local/lib/libtbbbind.so.3 is not a symbolic link\n",
            "\n",
            "/sbin/ldconfig.real: /usr/local/lib/libtbb.so.12 is not a symbolic link\n",
            "\n",
            "/sbin/ldconfig.real: /usr/local/lib/libtbbbind_2_5.so.3 is not a symbolic link\n",
            "\n",
            "/sbin/ldconfig.real: /usr/local/lib/libtbbmalloc.so.2 is not a symbolic link\n",
            "\n",
            "/sbin/ldconfig.real: /usr/local/lib/libtcm_debug.so.1 is not a symbolic link\n",
            "\n",
            "/sbin/ldconfig.real: /usr/local/lib/libtbbmalloc_proxy.so.2 is not a symbolic link\n",
            "\n",
            "/sbin/ldconfig.real: /usr/local/lib/libtcm.so.1 is not a symbolic link\n",
            "\n",
            "/sbin/ldconfig.real: /usr/local/lib/libtbbbind_2_0.so.3 is not a symbolic link\n",
            "\n",
            "/sbin/ldconfig.real: /usr/local/lib/libhwloc.so.15 is not a symbolic link\n",
            "\n",
            "/sbin/ldconfig.real: /usr/local/lib/libur_adapter_level_zero.so.0 is not a symbolic link\n",
            "\n",
            "/sbin/ldconfig.real: /usr/local/lib/libumf.so.0 is not a symbolic link\n",
            "\n",
            "/sbin/ldconfig.real: /usr/local/lib/libur_adapter_opencl.so.0 is not a symbolic link\n",
            "\n",
            "/sbin/ldconfig.real: /usr/local/lib/libur_loader.so.0 is not a symbolic link\n",
            "\n"
          ]
        }
      ],
      "source": [
        "#@title Install *prerqeuisites* (run this cell first to work on LEX/YACC)\n",
        "!sudo apt install flex bison"
      ]
    },
    {
      "cell_type": "code",
      "source": [
        "!sudo apt-get update"
      ],
      "metadata": {
        "colab": {
          "base_uri": "https://localhost:8080/"
        },
        "id": "YKUddyMSkE5O",
        "outputId": "642c5772-7cc3-4d0c-effb-22925cdde491"
      },
      "execution_count": 23,
      "outputs": [
        {
          "output_type": "stream",
          "name": "stdout",
          "text": [
            "\r0% [Working]\r            \rHit:1 http://archive.ubuntu.com/ubuntu jammy InRelease\n",
            "\r0% [Waiting for headers] [Connecting to security.ubuntu.com (185.125.190.82)] [\r                                                                               \rGet:2 http://archive.ubuntu.com/ubuntu jammy-updates InRelease [128 kB]\n",
            "\r0% [2 InRelease 37.3 kB/128 kB 29%] [Connecting to security.ubuntu.com (185.125\r                                                                               \rGet:3 https://cloud.r-project.org/bin/linux/ubuntu jammy-cran40/ InRelease [3,632 B]\n",
            "\r0% [2 InRelease 110 kB/128 kB 86%] [Waiting for headers] [Connected to r2u.stat\r0% [Waiting for headers] [Waiting for headers] [Connected to r2u.stat.illinois.\r                                                                               \rHit:4 http://archive.ubuntu.com/ubuntu jammy-backports InRelease\n",
            "Hit:5 https://developer.download.nvidia.com/compute/cuda/repos/ubuntu2204/x86_64  InRelease\n",
            "Get:6 http://security.ubuntu.com/ubuntu jammy-security InRelease [129 kB]\n",
            "Get:7 https://r2u.stat.illinois.edu/ubuntu jammy InRelease [6,555 B]\n",
            "Get:8 https://ppa.launchpadcontent.net/deadsnakes/ppa/ubuntu jammy InRelease [18.1 kB]\n",
            "Get:9 http://archive.ubuntu.com/ubuntu jammy-updates/main amd64 Packages [3,099 kB]\n",
            "Hit:10 https://ppa.launchpadcontent.net/graphics-drivers/ppa/ubuntu jammy InRelease\n",
            "Get:11 http://archive.ubuntu.com/ubuntu jammy-updates/universe amd64 Packages [1,542 kB]\n",
            "Hit:12 https://ppa.launchpadcontent.net/ubuntugis/ppa/ubuntu jammy InRelease\n",
            "Get:13 https://r2u.stat.illinois.edu/ubuntu jammy/main amd64 Packages [2,690 kB]\n",
            "Get:14 http://security.ubuntu.com/ubuntu jammy-security/main amd64 Packages [2,788 kB]\n",
            "Get:15 https://r2u.stat.illinois.edu/ubuntu jammy/main all Packages [8,833 kB]\n",
            "Get:16 https://ppa.launchpadcontent.net/deadsnakes/ppa/ubuntu jammy/main amd64 Packages [34.3 kB]\n",
            "Get:17 http://security.ubuntu.com/ubuntu jammy-security/universe amd64 Packages [1,243 kB]\n",
            "Fetched 20.5 MB in 2s (8,859 kB/s)\n",
            "Reading package lists... Done\n",
            "W: Skipping acquire of configured file 'main/source/Sources' as repository 'https://r2u.stat.illinois.edu/ubuntu jammy InRelease' does not seem to provide it (sources.list entry misspelt?)\n"
          ]
        }
      ]
    },
    {
      "cell_type": "code",
      "source": [
        "#@title Writing YACC program\n",
        "%%writefile program.y\n",
        "%{\n",
        "#include <stdio.h>\n",
        "#include <stdlib.h>\n",
        "\n",
        "void yyerror(const char *s);\n",
        "int yylex();\n",
        "%}\n",
        "\n",
        "// Define token types\n",
        "%token NUMBER\n",
        "\n",
        "%%\n",
        "\n",
        "program : expr '\\n' { printf(\"Terminating\\n\");  exit(0); }\n",
        "        ;\n",
        "// Grammar rules for arithmetic expressions\n",
        "expr    : expr '+' term    { printf(\"Valid Expression\\n\"); }\n",
        "        | expr '-' term\n",
        "        | term\n",
        "        ;\n",
        "\n",
        "term    : term '*' factor\n",
        "        | term '/' factor\n",
        "        | factor\n",
        "        ;\n",
        "\n",
        "factor  : factor '^' power\n",
        "\t| power\n",
        "        ;\n",
        "power   : NUMBER\n",
        " \t| '(' expr ')' // Parentheses ensure correct precedence\n",
        " \t;\n",
        "\n",
        "%%\n",
        "\n",
        "void yyerror(const char *s) {\n",
        "    printf(\"Invalid Expression: %s\\n\", s);\n",
        "}\n",
        "\n",
        "int main() {\n",
        "    printf(\"Enter an arithmetic expression: \");\n",
        "    yyparse();\n",
        "    return 0;\n",
        "}\n",
        "\n",
        "\n"
      ],
      "metadata": {
        "colab": {
          "base_uri": "https://localhost:8080/"
        },
        "id": "z5zLQj54kUtv",
        "outputId": "de535bf7-7088-4fed-d561-046eb75f4f40"
      },
      "execution_count": 51,
      "outputs": [
        {
          "output_type": "stream",
          "name": "stdout",
          "text": [
            "Overwriting program.y\n"
          ]
        }
      ]
    },
    {
      "cell_type": "code",
      "source": [
        "#@title Writing Lex program\n",
        "%%writefile program.l\n",
        "\n",
        "%{\n",
        "  #include \"y.tab.h\"\n",
        "\n",
        "%}\n",
        "\n",
        "digit [0-9]\n",
        "operators [\\+\\-\\*/\\^]\n",
        "\n",
        "%%\n",
        "\n",
        "{digit} {yylval = atoi(yytext); return NUMBER;}\n",
        "[+\\-\\*/\\^] { return *yytext; }\n",
        "\n",
        "[ \\t\\n] {}\n",
        ". {return yytext[0];}\n",
        "\n",
        "\n",
        "\n",
        "%%\n",
        "\n",
        "int yywrap(){\n",
        "  return 1;\n",
        "}\n",
        "\n"
      ],
      "metadata": {
        "colab": {
          "base_uri": "https://localhost:8080/"
        },
        "id": "XRJnxBB-kcaV",
        "outputId": "ac0e6f78-c946-4fa7-a309-b1809286a912"
      },
      "execution_count": 52,
      "outputs": [
        {
          "output_type": "stream",
          "name": "stdout",
          "text": [
            "Overwriting program.l\n"
          ]
        }
      ]
    },
    {
      "cell_type": "code",
      "source": [
        "#@title Shell Execution (you can rewrite the commands as per your need, eg. if you want to include a file as an input)\n",
        "%%shell\n",
        "yacc -d program.y\n",
        "lex program.l\n",
        "gcc y.tab.c lex.yy.c -ll\n",
        "./a.out"
      ],
      "metadata": {
        "colab": {
          "base_uri": "https://localhost:8080/"
        },
        "id": "4T5P91cPlcW4",
        "outputId": "edc5f607-1ef9-431a-fddd-ff8a59c9bae4"
      },
      "execution_count": 53,
      "outputs": [
        {
          "output_type": "stream",
          "name": "stdout",
          "text": [
            "Enter an arithmetic expression: 3+2-4\n",
            "Valid Expression\n",
            "aaa\n",
            "Invalid Expression: syntax error\n"
          ]
        },
        {
          "output_type": "execute_result",
          "data": {
            "text/plain": []
          },
          "metadata": {},
          "execution_count": 53
        }
      ]
    },
    {
      "cell_type": "code",
      "source": [
        "%%shell\n",
        "yacc -d program.y\n",
        "lex program.l\n",
        "gcc lex.yy.c y.tab.c -ll -o parser\n",
        "./parser"
      ],
      "metadata": {
        "colab": {
          "base_uri": "https://localhost:8080/"
        },
        "id": "xP02hCnTlFGG",
        "outputId": "6312012a-a7a0-48af-d466-e582f44f94b5"
      },
      "execution_count": 25,
      "outputs": [
        {
          "output_type": "stream",
          "name": "stdout",
          "text": [
            "Enter a string: ab\n",
            "Invalid Character : b\n",
            "String des not belong to the Grammar: syntax error\n"
          ]
        },
        {
          "output_type": "execute_result",
          "data": {
            "text/plain": []
          },
          "metadata": {},
          "execution_count": 25
        }
      ]
    },
    {
      "cell_type": "code",
      "source": [
        "%%writefile program.l\n",
        "%{\n",
        "#include \"y.tab.h\"  // Include the Bison header for tokens\n",
        "%}\n",
        "\n",
        "%%\n",
        "[0-9]+      { yylval = atoi(yytext); return NUM; }  // Match numbers and store the integer value\n",
        "[+\\-*/^]    { return yytext[0]; }  // Return operators as their respective tokens\n",
        "[()]        { return yytext[0]; }  // Return parentheses as their respective tokens\n",
        "[ \\t\\n]+    { /* Skip whitespace */ }\n",
        "<<EOF>>     { return EOI; }  // End of input\n",
        "%%\n",
        "\n",
        "int yywrap() {\n",
        "    return 1;  // Returns true when input ends\n",
        "}\n",
        "\n"
      ],
      "metadata": {
        "id": "uuKpaIkhlYsu",
        "colab": {
          "base_uri": "https://localhost:8080/"
        },
        "outputId": "e96f7327-7b36-497f-fcb8-e01558490f7f"
      },
      "execution_count": 77,
      "outputs": [
        {
          "output_type": "stream",
          "name": "stdout",
          "text": [
            "Overwriting program.l\n"
          ]
        }
      ]
    },
    {
      "cell_type": "code",
      "source": [
        "%%shell\n",
        "lex program.l"
      ],
      "metadata": {
        "colab": {
          "base_uri": "https://localhost:8080/"
        },
        "id": "ysJgoos7Vk9l",
        "outputId": "e2afa3d2-b28d-403a-9e7d-eb64ee1d1bfd"
      },
      "execution_count": 78,
      "outputs": [
        {
          "output_type": "execute_result",
          "data": {
            "text/plain": []
          },
          "metadata": {},
          "execution_count": 78
        }
      ]
    },
    {
      "cell_type": "code",
      "source": [
        "%%writefile parser.y\n",
        "\n",
        "%{\n",
        "  #include<stdio.h>\n",
        "  #include<stdlib.h>\n",
        "  #include<math.h>\n",
        "\n",
        "  extern int yylex();\n",
        "  extern int yyparse();\n",
        "  extern FILE *yyin;\n",
        "\n",
        "  void yyerror(const char *s){\n",
        "    fprintf(stderr, \"Syntax error: %s \\n\", s);\n",
        "  }\n",
        "\n",
        "%}\n",
        "\n",
        "\n",
        "\n",
        "%token NUM\n",
        "%token EOI\n",
        "%left '+' '-'\n",
        "%left '*' '/'\n",
        "%left '^'\n",
        "%left '(' ')'\n",
        "\n",
        "\n",
        "\n",
        "%%\n",
        "program : exp EOI {printf(\"The expression is valid, Answer = %d\", $1); exit(0);}\n",
        "exp : exp '+' exp {printf(\"%d + %d = %d\", $1, $3, $1 + $3 ); $$ = $1 + $3;}\n",
        "   | exp '-' exp {printf(\"%d - %d = %d\", $1, $3, $1 - $3 ); $$ = $1 - $3;}\n",
        "   | exp '*' exp {printf(\"%d * %d = %d\", $1, $3, $1 * $3 ); $$ = $1 * $3;}\n",
        "   | exp '/' exp {printf(\"%d / %d = %d\", $1, $3, $1 / $3 ); $$ = $1 / $3;}\n",
        "   | exp '^' exp {printf(\"%d ^ %d = %d\", $1, $3, $1 ^ $3 ); $$ = $1 ^ $3;}\n",
        "   | '(' exp ')' { $$ = $2; }\n",
        "   | NUM { $$ = $1; }\n",
        "   ;\n",
        "\n",
        "%%\n",
        "\n",
        "int main (){\n",
        "  printf(\"Enter an expression: \");\n",
        "\n",
        "  yyparse();\n",
        "\n",
        "  return 0;\n",
        "}"
      ],
      "metadata": {
        "colab": {
          "base_uri": "https://localhost:8080/"
        },
        "id": "WqCjzU0VVoIY",
        "outputId": "779ae16e-2550-4880-9775-8d16e11aa417"
      },
      "execution_count": 79,
      "outputs": [
        {
          "output_type": "stream",
          "name": "stdout",
          "text": [
            "Overwriting parser.y\n"
          ]
        }
      ]
    },
    {
      "cell_type": "code",
      "source": [
        "%%shell\n",
        "yacc -d parser.y\n",
        "gcc lex.yy.c y.tab.c -o parser\n",
        "./parser"
      ],
      "metadata": {
        "colab": {
          "base_uri": "https://localhost:8080/"
        },
        "id": "JPkAMkl7W5fJ",
        "outputId": "d710a1bb-201f-4c20-b336-71de9eeddade"
      },
      "execution_count": 81,
      "outputs": [
        {
          "output_type": "stream",
          "name": "stdout",
          "text": [
            "Enter an expression: 3+4 \\n\n",
            "\\n4\n",
            "Syntax error: syntax error \n",
            "3 + 4 = 7"
          ]
        },
        {
          "output_type": "execute_result",
          "data": {
            "text/plain": []
          },
          "metadata": {},
          "execution_count": 81
        }
      ]
    },
    {
      "cell_type": "code",
      "source": [
        "%%writefile lexer.l\n",
        "%option noyywrap\n",
        "%{\n",
        "#include \"y.tab.h\"  // includes token definitions (A, B)\n",
        "%}\n",
        "\n",
        "%%\n",
        "\n",
        "a   { return A; }\n",
        "\\n  { return '\\n'; }\n",
        ".   { return -1; }  // invalid characters cause syntax error\n",
        "\n",
        "%%\n",
        "\n"
      ],
      "metadata": {
        "colab": {
          "base_uri": "https://localhost:8080/"
        },
        "id": "vJTneFG_YTT0",
        "outputId": "30e04cbe-2156-41ba-8521-b5f1ec974c94"
      },
      "execution_count": 33,
      "outputs": [
        {
          "output_type": "stream",
          "name": "stdout",
          "text": [
            "Overwriting lexer.l\n"
          ]
        }
      ]
    },
    {
      "cell_type": "code",
      "source": [
        "%%writefile parser.y\n",
        "%{\n",
        "#include <stdio.h>\n",
        "#include <stdlib.h>\n",
        "int yylex(void);\n",
        "void yyerror(const char *s);\n",
        "%}\n",
        "\n",
        "%token A B\n",
        "\n",
        "%%\n",
        "\n",
        "S : expr '\\n' { printf(\"String is Valid\\n\");  exit(0); }\n",
        "    ;\n",
        "expr : A expr | ;\n",
        "\n",
        "%%\n",
        "\n",
        "int main() {\n",
        "    printf(\"Enter a string of a's :\\n\");\n",
        "    return yyparse();\n",
        "}\n",
        "\n",
        "void yyerror(const char *s) {\n",
        "    fprintf(stderr, \"Syntax Error: %s\\n\", s);\n",
        "    exit(1);\n",
        "}\n",
        "\n",
        "\n"
      ],
      "metadata": {
        "colab": {
          "base_uri": "https://localhost:8080/"
        },
        "id": "I2YQsJEA0B65",
        "outputId": "fe259bef-7dd5-48a5-f927-ed8929f786e7"
      },
      "execution_count": 40,
      "outputs": [
        {
          "output_type": "stream",
          "name": "stdout",
          "text": [
            "Overwriting parser.y\n"
          ]
        }
      ]
    },
    {
      "cell_type": "code",
      "source": [
        "%%shell\n",
        "lex lexer.l\n",
        "bison -d parser.y\n",
        "gcc lex.yy.c y.tab.c -o parser -lfl\n",
        "./parser"
      ],
      "metadata": {
        "colab": {
          "base_uri": "https://localhost:8080/"
        },
        "id": "QetX3KqQ1gUF",
        "outputId": "ccf9b0ff-c6f5-4820-8a86-2c4ec63466b9"
      },
      "execution_count": null,
      "outputs": [
        {
          "output_type": "stream",
          "name": "stdout",
          "text": [
            "Enter a string of a's followed by b's (a*b*):\n",
            "aaa\n",
            "Valid string: a*b*\n"
          ]
        }
      ]
    },
    {
      "cell_type": "code",
      "source": [],
      "metadata": {
        "id": "rZp926Hr1n1X"
      },
      "execution_count": null,
      "outputs": []
    }
  ]
}